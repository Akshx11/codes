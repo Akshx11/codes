{
 "cells": [
  {
   "cell_type": "markdown",
   "id": "15b1b900",
   "metadata": {
    "id": "15b1b900"
   },
   "source": [
    "## Real Estate (99acres.com) Price Analysis"
   ]
  },
  {
   "cell_type": "markdown",
   "id": "4c288fbf",
   "metadata": {
    "id": "4c288fbf"
   },
   "source": [
    "## 1. Import Libraries"
   ]
  },
  {
   "cell_type": "markdown",
   "id": "WDsOeuA5nCYf",
   "metadata": {
    "id": "WDsOeuA5nCYf"
   },
   "source": []
  },
  {
   "cell_type": "code",
   "execution_count": 6,
   "id": "70660735",
   "metadata": {
    "id": "70660735"
   },
   "outputs": [],
   "source": [
    "import folium\n",
    "import numpy as np\n",
    "import pandas as pd\n",
    "import seaborn as sns\n",
    "from collections import Counter\n",
    "import matplotlib.pyplot as plt\n",
    "import matplotlib.pylab as pylab\n",
    "from geopy.geocoders import ArcGIS\n",
    "\n",
    "import warnings\n",
    "warnings.filterwarnings('ignore')"
   ]
  },
  {
   "cell_type": "markdown",
   "id": "ce49dfe9",
   "metadata": {
    "id": "ce49dfe9"
   },
   "source": [
    "## 2. Load the Dataset"
   ]
  },
  {
   "cell_type": "code",
   "execution_count": 7,
   "id": "aaaf9b61",
   "metadata": {
    "id": "aaaf9b61"
   },
   "outputs": [
    {
     "ename": "FileNotFoundError",
     "evalue": "[Errno 2] No such file or directory: 'Mumbai_Property.csv'",
     "output_type": "error",
     "traceback": [
      "\u001b[1;31m---------------------------------------------------------------------------\u001b[0m",
      "\u001b[1;31mFileNotFoundError\u001b[0m                         Traceback (most recent call last)",
      "Cell \u001b[1;32mIn[7], line 1\u001b[0m\n\u001b[1;32m----> 1\u001b[0m mum_prop \u001b[38;5;241m=\u001b[39m \u001b[43mpd\u001b[49m\u001b[38;5;241;43m.\u001b[39;49m\u001b[43mread_csv\u001b[49m\u001b[43m(\u001b[49m\u001b[38;5;124;43m'\u001b[39;49m\u001b[38;5;124;43mMumbai_Property.csv\u001b[39;49m\u001b[38;5;124;43m'\u001b[39;49m\u001b[43m)\u001b[49m\n",
      "File \u001b[1;32m~\\AppData\\Local\\Programs\\Python\\Python311\\Lib\\site-packages\\pandas\\io\\parsers\\readers.py:912\u001b[0m, in \u001b[0;36mread_csv\u001b[1;34m(filepath_or_buffer, sep, delimiter, header, names, index_col, usecols, dtype, engine, converters, true_values, false_values, skipinitialspace, skiprows, skipfooter, nrows, na_values, keep_default_na, na_filter, verbose, skip_blank_lines, parse_dates, infer_datetime_format, keep_date_col, date_parser, date_format, dayfirst, cache_dates, iterator, chunksize, compression, thousands, decimal, lineterminator, quotechar, quoting, doublequote, escapechar, comment, encoding, encoding_errors, dialect, on_bad_lines, delim_whitespace, low_memory, memory_map, float_precision, storage_options, dtype_backend)\u001b[0m\n\u001b[0;32m    899\u001b[0m kwds_defaults \u001b[38;5;241m=\u001b[39m _refine_defaults_read(\n\u001b[0;32m    900\u001b[0m     dialect,\n\u001b[0;32m    901\u001b[0m     delimiter,\n\u001b[1;32m   (...)\u001b[0m\n\u001b[0;32m    908\u001b[0m     dtype_backend\u001b[38;5;241m=\u001b[39mdtype_backend,\n\u001b[0;32m    909\u001b[0m )\n\u001b[0;32m    910\u001b[0m kwds\u001b[38;5;241m.\u001b[39mupdate(kwds_defaults)\n\u001b[1;32m--> 912\u001b[0m \u001b[38;5;28;01mreturn\u001b[39;00m \u001b[43m_read\u001b[49m\u001b[43m(\u001b[49m\u001b[43mfilepath_or_buffer\u001b[49m\u001b[43m,\u001b[49m\u001b[43m \u001b[49m\u001b[43mkwds\u001b[49m\u001b[43m)\u001b[49m\n",
      "File \u001b[1;32m~\\AppData\\Local\\Programs\\Python\\Python311\\Lib\\site-packages\\pandas\\io\\parsers\\readers.py:577\u001b[0m, in \u001b[0;36m_read\u001b[1;34m(filepath_or_buffer, kwds)\u001b[0m\n\u001b[0;32m    574\u001b[0m _validate_names(kwds\u001b[38;5;241m.\u001b[39mget(\u001b[38;5;124m\"\u001b[39m\u001b[38;5;124mnames\u001b[39m\u001b[38;5;124m\"\u001b[39m, \u001b[38;5;28;01mNone\u001b[39;00m))\n\u001b[0;32m    576\u001b[0m \u001b[38;5;66;03m# Create the parser.\u001b[39;00m\n\u001b[1;32m--> 577\u001b[0m parser \u001b[38;5;241m=\u001b[39m \u001b[43mTextFileReader\u001b[49m\u001b[43m(\u001b[49m\u001b[43mfilepath_or_buffer\u001b[49m\u001b[43m,\u001b[49m\u001b[43m \u001b[49m\u001b[38;5;241;43m*\u001b[39;49m\u001b[38;5;241;43m*\u001b[39;49m\u001b[43mkwds\u001b[49m\u001b[43m)\u001b[49m\n\u001b[0;32m    579\u001b[0m \u001b[38;5;28;01mif\u001b[39;00m chunksize \u001b[38;5;129;01mor\u001b[39;00m iterator:\n\u001b[0;32m    580\u001b[0m     \u001b[38;5;28;01mreturn\u001b[39;00m parser\n",
      "File \u001b[1;32m~\\AppData\\Local\\Programs\\Python\\Python311\\Lib\\site-packages\\pandas\\io\\parsers\\readers.py:1407\u001b[0m, in \u001b[0;36mTextFileReader.__init__\u001b[1;34m(self, f, engine, **kwds)\u001b[0m\n\u001b[0;32m   1404\u001b[0m     \u001b[38;5;28mself\u001b[39m\u001b[38;5;241m.\u001b[39moptions[\u001b[38;5;124m\"\u001b[39m\u001b[38;5;124mhas_index_names\u001b[39m\u001b[38;5;124m\"\u001b[39m] \u001b[38;5;241m=\u001b[39m kwds[\u001b[38;5;124m\"\u001b[39m\u001b[38;5;124mhas_index_names\u001b[39m\u001b[38;5;124m\"\u001b[39m]\n\u001b[0;32m   1406\u001b[0m \u001b[38;5;28mself\u001b[39m\u001b[38;5;241m.\u001b[39mhandles: IOHandles \u001b[38;5;241m|\u001b[39m \u001b[38;5;28;01mNone\u001b[39;00m \u001b[38;5;241m=\u001b[39m \u001b[38;5;28;01mNone\u001b[39;00m\n\u001b[1;32m-> 1407\u001b[0m \u001b[38;5;28mself\u001b[39m\u001b[38;5;241m.\u001b[39m_engine \u001b[38;5;241m=\u001b[39m \u001b[38;5;28;43mself\u001b[39;49m\u001b[38;5;241;43m.\u001b[39;49m\u001b[43m_make_engine\u001b[49m\u001b[43m(\u001b[49m\u001b[43mf\u001b[49m\u001b[43m,\u001b[49m\u001b[43m \u001b[49m\u001b[38;5;28;43mself\u001b[39;49m\u001b[38;5;241;43m.\u001b[39;49m\u001b[43mengine\u001b[49m\u001b[43m)\u001b[49m\n",
      "File \u001b[1;32m~\\AppData\\Local\\Programs\\Python\\Python311\\Lib\\site-packages\\pandas\\io\\parsers\\readers.py:1661\u001b[0m, in \u001b[0;36mTextFileReader._make_engine\u001b[1;34m(self, f, engine)\u001b[0m\n\u001b[0;32m   1659\u001b[0m     \u001b[38;5;28;01mif\u001b[39;00m \u001b[38;5;124m\"\u001b[39m\u001b[38;5;124mb\u001b[39m\u001b[38;5;124m\"\u001b[39m \u001b[38;5;129;01mnot\u001b[39;00m \u001b[38;5;129;01min\u001b[39;00m mode:\n\u001b[0;32m   1660\u001b[0m         mode \u001b[38;5;241m+\u001b[39m\u001b[38;5;241m=\u001b[39m \u001b[38;5;124m\"\u001b[39m\u001b[38;5;124mb\u001b[39m\u001b[38;5;124m\"\u001b[39m\n\u001b[1;32m-> 1661\u001b[0m \u001b[38;5;28mself\u001b[39m\u001b[38;5;241m.\u001b[39mhandles \u001b[38;5;241m=\u001b[39m \u001b[43mget_handle\u001b[49m\u001b[43m(\u001b[49m\n\u001b[0;32m   1662\u001b[0m \u001b[43m    \u001b[49m\u001b[43mf\u001b[49m\u001b[43m,\u001b[49m\n\u001b[0;32m   1663\u001b[0m \u001b[43m    \u001b[49m\u001b[43mmode\u001b[49m\u001b[43m,\u001b[49m\n\u001b[0;32m   1664\u001b[0m \u001b[43m    \u001b[49m\u001b[43mencoding\u001b[49m\u001b[38;5;241;43m=\u001b[39;49m\u001b[38;5;28;43mself\u001b[39;49m\u001b[38;5;241;43m.\u001b[39;49m\u001b[43moptions\u001b[49m\u001b[38;5;241;43m.\u001b[39;49m\u001b[43mget\u001b[49m\u001b[43m(\u001b[49m\u001b[38;5;124;43m\"\u001b[39;49m\u001b[38;5;124;43mencoding\u001b[39;49m\u001b[38;5;124;43m\"\u001b[39;49m\u001b[43m,\u001b[49m\u001b[43m \u001b[49m\u001b[38;5;28;43;01mNone\u001b[39;49;00m\u001b[43m)\u001b[49m\u001b[43m,\u001b[49m\n\u001b[0;32m   1665\u001b[0m \u001b[43m    \u001b[49m\u001b[43mcompression\u001b[49m\u001b[38;5;241;43m=\u001b[39;49m\u001b[38;5;28;43mself\u001b[39;49m\u001b[38;5;241;43m.\u001b[39;49m\u001b[43moptions\u001b[49m\u001b[38;5;241;43m.\u001b[39;49m\u001b[43mget\u001b[49m\u001b[43m(\u001b[49m\u001b[38;5;124;43m\"\u001b[39;49m\u001b[38;5;124;43mcompression\u001b[39;49m\u001b[38;5;124;43m\"\u001b[39;49m\u001b[43m,\u001b[49m\u001b[43m \u001b[49m\u001b[38;5;28;43;01mNone\u001b[39;49;00m\u001b[43m)\u001b[49m\u001b[43m,\u001b[49m\n\u001b[0;32m   1666\u001b[0m \u001b[43m    \u001b[49m\u001b[43mmemory_map\u001b[49m\u001b[38;5;241;43m=\u001b[39;49m\u001b[38;5;28;43mself\u001b[39;49m\u001b[38;5;241;43m.\u001b[39;49m\u001b[43moptions\u001b[49m\u001b[38;5;241;43m.\u001b[39;49m\u001b[43mget\u001b[49m\u001b[43m(\u001b[49m\u001b[38;5;124;43m\"\u001b[39;49m\u001b[38;5;124;43mmemory_map\u001b[39;49m\u001b[38;5;124;43m\"\u001b[39;49m\u001b[43m,\u001b[49m\u001b[43m \u001b[49m\u001b[38;5;28;43;01mFalse\u001b[39;49;00m\u001b[43m)\u001b[49m\u001b[43m,\u001b[49m\n\u001b[0;32m   1667\u001b[0m \u001b[43m    \u001b[49m\u001b[43mis_text\u001b[49m\u001b[38;5;241;43m=\u001b[39;49m\u001b[43mis_text\u001b[49m\u001b[43m,\u001b[49m\n\u001b[0;32m   1668\u001b[0m \u001b[43m    \u001b[49m\u001b[43merrors\u001b[49m\u001b[38;5;241;43m=\u001b[39;49m\u001b[38;5;28;43mself\u001b[39;49m\u001b[38;5;241;43m.\u001b[39;49m\u001b[43moptions\u001b[49m\u001b[38;5;241;43m.\u001b[39;49m\u001b[43mget\u001b[49m\u001b[43m(\u001b[49m\u001b[38;5;124;43m\"\u001b[39;49m\u001b[38;5;124;43mencoding_errors\u001b[39;49m\u001b[38;5;124;43m\"\u001b[39;49m\u001b[43m,\u001b[49m\u001b[43m \u001b[49m\u001b[38;5;124;43m\"\u001b[39;49m\u001b[38;5;124;43mstrict\u001b[39;49m\u001b[38;5;124;43m\"\u001b[39;49m\u001b[43m)\u001b[49m\u001b[43m,\u001b[49m\n\u001b[0;32m   1669\u001b[0m \u001b[43m    \u001b[49m\u001b[43mstorage_options\u001b[49m\u001b[38;5;241;43m=\u001b[39;49m\u001b[38;5;28;43mself\u001b[39;49m\u001b[38;5;241;43m.\u001b[39;49m\u001b[43moptions\u001b[49m\u001b[38;5;241;43m.\u001b[39;49m\u001b[43mget\u001b[49m\u001b[43m(\u001b[49m\u001b[38;5;124;43m\"\u001b[39;49m\u001b[38;5;124;43mstorage_options\u001b[39;49m\u001b[38;5;124;43m\"\u001b[39;49m\u001b[43m,\u001b[49m\u001b[43m \u001b[49m\u001b[38;5;28;43;01mNone\u001b[39;49;00m\u001b[43m)\u001b[49m\u001b[43m,\u001b[49m\n\u001b[0;32m   1670\u001b[0m \u001b[43m\u001b[49m\u001b[43m)\u001b[49m\n\u001b[0;32m   1671\u001b[0m \u001b[38;5;28;01massert\u001b[39;00m \u001b[38;5;28mself\u001b[39m\u001b[38;5;241m.\u001b[39mhandles \u001b[38;5;129;01mis\u001b[39;00m \u001b[38;5;129;01mnot\u001b[39;00m \u001b[38;5;28;01mNone\u001b[39;00m\n\u001b[0;32m   1672\u001b[0m f \u001b[38;5;241m=\u001b[39m \u001b[38;5;28mself\u001b[39m\u001b[38;5;241m.\u001b[39mhandles\u001b[38;5;241m.\u001b[39mhandle\n",
      "File \u001b[1;32m~\\AppData\\Local\\Programs\\Python\\Python311\\Lib\\site-packages\\pandas\\io\\common.py:859\u001b[0m, in \u001b[0;36mget_handle\u001b[1;34m(path_or_buf, mode, encoding, compression, memory_map, is_text, errors, storage_options)\u001b[0m\n\u001b[0;32m    854\u001b[0m \u001b[38;5;28;01melif\u001b[39;00m \u001b[38;5;28misinstance\u001b[39m(handle, \u001b[38;5;28mstr\u001b[39m):\n\u001b[0;32m    855\u001b[0m     \u001b[38;5;66;03m# Check whether the filename is to be opened in binary mode.\u001b[39;00m\n\u001b[0;32m    856\u001b[0m     \u001b[38;5;66;03m# Binary mode does not support 'encoding' and 'newline'.\u001b[39;00m\n\u001b[0;32m    857\u001b[0m     \u001b[38;5;28;01mif\u001b[39;00m ioargs\u001b[38;5;241m.\u001b[39mencoding \u001b[38;5;129;01mand\u001b[39;00m \u001b[38;5;124m\"\u001b[39m\u001b[38;5;124mb\u001b[39m\u001b[38;5;124m\"\u001b[39m \u001b[38;5;129;01mnot\u001b[39;00m \u001b[38;5;129;01min\u001b[39;00m ioargs\u001b[38;5;241m.\u001b[39mmode:\n\u001b[0;32m    858\u001b[0m         \u001b[38;5;66;03m# Encoding\u001b[39;00m\n\u001b[1;32m--> 859\u001b[0m         handle \u001b[38;5;241m=\u001b[39m \u001b[38;5;28;43mopen\u001b[39;49m\u001b[43m(\u001b[49m\n\u001b[0;32m    860\u001b[0m \u001b[43m            \u001b[49m\u001b[43mhandle\u001b[49m\u001b[43m,\u001b[49m\n\u001b[0;32m    861\u001b[0m \u001b[43m            \u001b[49m\u001b[43mioargs\u001b[49m\u001b[38;5;241;43m.\u001b[39;49m\u001b[43mmode\u001b[49m\u001b[43m,\u001b[49m\n\u001b[0;32m    862\u001b[0m \u001b[43m            \u001b[49m\u001b[43mencoding\u001b[49m\u001b[38;5;241;43m=\u001b[39;49m\u001b[43mioargs\u001b[49m\u001b[38;5;241;43m.\u001b[39;49m\u001b[43mencoding\u001b[49m\u001b[43m,\u001b[49m\n\u001b[0;32m    863\u001b[0m \u001b[43m            \u001b[49m\u001b[43merrors\u001b[49m\u001b[38;5;241;43m=\u001b[39;49m\u001b[43merrors\u001b[49m\u001b[43m,\u001b[49m\n\u001b[0;32m    864\u001b[0m \u001b[43m            \u001b[49m\u001b[43mnewline\u001b[49m\u001b[38;5;241;43m=\u001b[39;49m\u001b[38;5;124;43m\"\u001b[39;49m\u001b[38;5;124;43m\"\u001b[39;49m\u001b[43m,\u001b[49m\n\u001b[0;32m    865\u001b[0m \u001b[43m        \u001b[49m\u001b[43m)\u001b[49m\n\u001b[0;32m    866\u001b[0m     \u001b[38;5;28;01melse\u001b[39;00m:\n\u001b[0;32m    867\u001b[0m         \u001b[38;5;66;03m# Binary mode\u001b[39;00m\n\u001b[0;32m    868\u001b[0m         handle \u001b[38;5;241m=\u001b[39m \u001b[38;5;28mopen\u001b[39m(handle, ioargs\u001b[38;5;241m.\u001b[39mmode)\n",
      "\u001b[1;31mFileNotFoundError\u001b[0m: [Errno 2] No such file or directory: 'Mumbai_Property.csv'"
     ]
    }
   ],
   "source": [
    "mum_prop = pd.read_csv('Mumbai_Property.csv')"
   ]
  },
  {
   "cell_type": "markdown",
   "id": "437e0251",
   "metadata": {
    "id": "437e0251"
   },
   "source": [
    "### 2.1 Know more about dataset"
   ]
  },
  {
   "cell_type": "code",
   "execution_count": null,
   "id": "e0ecc204",
   "metadata": {
    "id": "e0ecc204",
    "outputId": "4ecbb0dc-f13d-42ae-db72-fc658ca67877"
   },
   "outputs": [],
   "source": [
    "mum_prop.head()"
   ]
  },
  {
   "cell_type": "code",
   "execution_count": null,
   "id": "78a981ff",
   "metadata": {
    "id": "78a981ff",
    "outputId": "3928d856-ef5d-4c82-9264-37de265e0ebc"
   },
   "outputs": [],
   "source": [
    "mum_prop.shape"
   ]
  },
  {
   "cell_type": "code",
   "execution_count": null,
   "id": "22ca2cf5",
   "metadata": {
    "id": "22ca2cf5",
    "outputId": "189bb05a-43c8-403c-e9aa-186c7f08e1ae"
   },
   "outputs": [],
   "source": [
    "mum_prop.info()"
   ]
  },
  {
   "cell_type": "code",
   "execution_count": null,
   "id": "bd88fc9e",
   "metadata": {
    "id": "bd88fc9e",
    "outputId": "d6135d73-b54b-4107-e097-06c69948ed8b"
   },
   "outputs": [],
   "source": [
    "mum_prop.Availability.value_counts()"
   ]
  },
  {
   "cell_type": "code",
   "execution_count": null,
   "id": "f0c32c87",
   "metadata": {
    "id": "f0c32c87",
    "outputId": "7ede81dc-955c-4cb9-baea-2092761019b2"
   },
   "outputs": [],
   "source": [
    "mum_prop.Region.value_counts().head(20)"
   ]
  },
  {
   "cell_type": "code",
   "execution_count": null,
   "id": "90c1bddc",
   "metadata": {
    "id": "90c1bddc",
    "outputId": "e38e29a8-faeb-4c22-cf08-5d6cfbfbbd3e"
   },
   "outputs": [],
   "source": [
    "mum_prop.Region.nunique()"
   ]
  },
  {
   "cell_type": "code",
   "execution_count": null,
   "id": "d9f17434",
   "metadata": {
    "id": "d9f17434",
    "outputId": "142e2d37-87b5-433c-cb9a-c0c733b839b4"
   },
   "outputs": [],
   "source": [
    "mum_prop.describe().round(2)"
   ]
  },
  {
   "cell_type": "code",
   "execution_count": null,
   "id": "0ae15fd5",
   "metadata": {
    "id": "0ae15fd5"
   },
   "outputs": [],
   "source": [
    "Q1 = np.quantile(mum_prop.Area_SqFt,0.02)\n",
    "Q3 = np.quantile(mum_prop.Area_SqFt,0.98)\n",
    "med = np.median(mum_prop.Area_SqFt)\n",
    "IQR = Q3 - Q1\n",
    "upper_bound = Q3+(1.5*IQR)\n",
    "lower_bound = Q1-(1.5*IQR)\n",
    "outliers1 = mum_prop.Area_SqFt[(mum_prop.Area_SqFt <= lower_bound) | (mum_prop.Area_SqFt >= upper_bound)]\n",
    "\n",
    "mum_prop = mum_prop.drop(outliers1.index).reset_index(drop=True)"
   ]
  },
  {
   "cell_type": "code",
   "execution_count": null,
   "id": "d8f104e6",
   "metadata": {
    "id": "d8f104e6"
   },
   "outputs": [],
   "source": [
    "Q1 = np.quantile(mum_prop.Rate_SqFt,0.02)\n",
    "Q3 = np.quantile(mum_prop.Rate_SqFt,0.80)\n",
    "med = np.median(mum_prop.Rate_SqFt)\n",
    "IQR = Q3 - Q1\n",
    "upper_bound = Q3+(1.5*IQR)\n",
    "lower_bound = Q1-(1.5*IQR)\n",
    "outliers1 = mum_prop.Rate_SqFt[(mum_prop.Rate_SqFt <= lower_bound) | (mum_prop.Rate_SqFt >= upper_bound)]\n",
    "\n",
    "mum_prop = mum_prop.drop(outliers1.index).reset_index(drop=True)"
   ]
  },
  {
   "cell_type": "code",
   "execution_count": null,
   "id": "ae5de41b",
   "metadata": {
    "id": "ae5de41b",
    "outputId": "908b72af-a364-4fc0-d059-7701eb258e83"
   },
   "outputs": [],
   "source": [
    "mum_prop.describe().round(2)"
   ]
  },
  {
   "cell_type": "code",
   "execution_count": null,
   "id": "1d3c142f",
   "metadata": {
    "id": "1d3c142f",
    "outputId": "3dd08326-eb71-418a-dafa-e7b75ffbae44",
    "scrolled": true
   },
   "outputs": [],
   "source": [
    "mum_prop.duplicated().sum()"
   ]
  },
  {
   "cell_type": "code",
   "execution_count": null,
   "id": "fceb49fd",
   "metadata": {
    "id": "fceb49fd"
   },
   "outputs": [],
   "source": [
    "mum_prop = mum_prop.drop_duplicates(ignore_index=True)"
   ]
  },
  {
   "cell_type": "code",
   "execution_count": null,
   "id": "e9848247",
   "metadata": {
    "id": "e9848247",
    "outputId": "bf0de046-430b-4a60-a59e-8f3b0ba9e83f"
   },
   "outputs": [],
   "source": [
    "mum_prop.isna().sum()"
   ]
  },
  {
   "cell_type": "code",
   "execution_count": null,
   "id": "7a26b5eb",
   "metadata": {
    "id": "7a26b5eb",
    "outputId": "4214a776-4726-4d28-f029-f9e9812772cb",
    "scrolled": true
   },
   "outputs": [],
   "source": [
    "mum_prop.shape"
   ]
  },
  {
   "cell_type": "code",
   "execution_count": null,
   "id": "92076a0d",
   "metadata": {
    "id": "92076a0d"
   },
   "outputs": [],
   "source": [
    "mum_prop.to_csv('Final_Project.csv', index_label = False)\n",
    "mum_prop = pd.read_csv('Final_Project.csv')"
   ]
  },
  {
   "cell_type": "markdown",
   "id": "88462d7b",
   "metadata": {
    "id": "88462d7b"
   },
   "source": [
    "## 3. Data Visualization"
   ]
  },
  {
   "cell_type": "markdown",
   "id": "38f766be",
   "metadata": {
    "id": "38f766be"
   },
   "source": [
    "### 3.1 Set the rcParams for all next Visualization"
   ]
  },
  {
   "cell_type": "code",
   "execution_count": null,
   "id": "108fcfa8",
   "metadata": {
    "id": "108fcfa8"
   },
   "outputs": [],
   "source": [
    "rcParams = {'xtick.labelsize':'14','ytick.labelsize':'14','axes.labelsize':'16'}"
   ]
  },
  {
   "cell_type": "markdown",
   "id": "c0970f4e",
   "metadata": {
    "id": "c0970f4e"
   },
   "source": [
    "### 3.2 Hunting Outliers"
   ]
  },
  {
   "cell_type": "code",
   "execution_count": null,
   "id": "0aadd6a9",
   "metadata": {
    "id": "0aadd6a9",
    "outputId": "d77b0c6d-02af-443b-963c-b1cb60706a8f"
   },
   "outputs": [],
   "source": [
    "fig, ax = plt.subplots(6,2, figsize = (12,14))\n",
    "\n",
    "fig.suptitle('Histplot & Box Plot : With Outliers', size = 18, fontweight=\"bold\")\n",
    "sns.kdeplot(ax= ax[0,0], data = mum_prop, x = 'Area_SqFt')\n",
    "sns.boxplot(ax= ax[0,1], data = mum_prop, x = 'Area_SqFt')\n",
    "sns.kdeplot(ax= ax[1,0], data = mum_prop, x = 'Rate_SqFt')\n",
    "sns.boxplot(ax= ax[1,1], data = mum_prop, x = 'Rate_SqFt')\n",
    "sns.kdeplot(ax= ax[2,0], data = mum_prop, x = 'Floor_No')\n",
    "sns.boxplot(ax= ax[2,1], data = mum_prop, x = 'Floor_No')\n",
    "sns.kdeplot(ax= ax[3,0], data = mum_prop, x = 'Bedroom')\n",
    "sns.boxplot(ax= ax[3,1], data = mum_prop, x = 'Bedroom')\n",
    "sns.kdeplot(ax= ax[4,0], data = mum_prop, x = 'Bathroom')\n",
    "sns.boxplot(ax= ax[4,1], data = mum_prop, x = 'Bathroom')\n",
    "sns.kdeplot(ax= ax[5,0], data = mum_prop, x = 'Price_Lakh')\n",
    "sns.boxplot(ax= ax[5,1], data = mum_prop, x = 'Price_Lakh')\n",
    "\n",
    "pylab.rcParams.update(rcParams)\n",
    "fig.tight_layout()\n",
    "fig.subplots_adjust(top=0.93)\n",
    "plt.show()\n",
    "\n",
    "#fig.savefig('Outliers', dpi = 500)"
   ]
  },
  {
   "cell_type": "markdown",
   "id": "2381c596",
   "metadata": {
    "id": "2381c596"
   },
   "source": [
    "## Obeservation :\n",
    "**Based on data following colums has most outliers & mostly left skewed data:**\n",
    "\n",
    "- Price_Lakh\n",
    "- Area_SqFt\n",
    "- Rate_SqFt\n",
    "- Floor_No"
   ]
  },
  {
   "cell_type": "markdown",
   "id": "ae0d695b",
   "metadata": {
    "id": "ae0d695b"
   },
   "source": [
    "## 4. Heatmap"
   ]
  },
  {
   "cell_type": "code",
   "execution_count": null,
   "id": "eea2d2ea",
   "metadata": {
    "id": "eea2d2ea",
    "outputId": "c0b4c2a0-fc22-4180-a0ca-d1abd8e48495",
    "scrolled": false
   },
   "outputs": [],
   "source": [
    "fig = plt.figure(figsize=(10,8))\n",
    "\n",
    "sns.heatmap(mum_prop.corr(), annot = True, cmap='YlGnBu', linewidth=.5)\n",
    "fig.suptitle('Heatmap Mumbai Property Data',fontsize=18, fontweight=\"bold\")\n",
    "pylab.rcParams.update(rcParams)\n",
    "fig.tight_layout()\n",
    "plt.show()\n",
    "\n",
    "#fig.savefig('Heatmap', dpi = 250)"
   ]
  },
  {
   "cell_type": "markdown",
   "id": "610f97c7",
   "metadata": {
    "id": "610f97c7"
   },
   "source": [
    "## 5. Exploratory Data Analysis\n",
    "    Convert all variable into following categories\n",
    "\n",
    "    1 Binary Variables\n",
    "    2 Ordinal Varibles\n",
    "    3 Continous Data\n",
    "    4 Target Variable"
   ]
  },
  {
   "cell_type": "markdown",
   "id": "ab04fb7c",
   "metadata": {
    "id": "ab04fb7c"
   },
   "source": [
    "### 5.1 Checking for Binary, Oridinal, Continous Data & Target Column"
   ]
  },
  {
   "cell_type": "code",
   "execution_count": null,
   "id": "bec92b20",
   "metadata": {
    "id": "bec92b20"
   },
   "outputs": [],
   "source": [
    "num_columns = mum_prop.describe().columns\n",
    "categorical_cols = mum_prop.describe(include= 'object').columns"
   ]
  },
  {
   "cell_type": "code",
   "execution_count": null,
   "id": "cda2a04f",
   "metadata": {
    "id": "cda2a04f",
    "outputId": "31a3d4f2-ad20-4343-f9ad-dd1156b45d2d"
   },
   "outputs": [],
   "source": [
    "mum_prop.nunique()"
   ]
  },
  {
   "cell_type": "code",
   "execution_count": null,
   "id": "15de4a79",
   "metadata": {
    "id": "15de4a79"
   },
   "outputs": [],
   "source": [
    "binary_variables = [i  for i in mum_prop.columns  if (len(mum_prop[i].unique()) == 2)]"
   ]
  },
  {
   "cell_type": "code",
   "execution_count": null,
   "id": "54b700ca",
   "metadata": {
    "id": "54b700ca",
    "outputId": "051216cc-77b2-4a16-d437-00deecf7bd24"
   },
   "outputs": [],
   "source": [
    "binary_variables"
   ]
  },
  {
   "cell_type": "code",
   "execution_count": null,
   "id": "736ebb6c",
   "metadata": {
    "id": "736ebb6c"
   },
   "outputs": [],
   "source": [
    "ordinal_variables=[i for i in mum_prop.columns if ((len(mum_prop[i].unique()) > 2 ) and (len(mum_prop[i].unique()) <= 53))]"
   ]
  },
  {
   "cell_type": "code",
   "execution_count": null,
   "id": "f8ed2e28",
   "metadata": {
    "id": "f8ed2e28",
    "outputId": "36f0ab9d-6cea-48db-b900-134efd4c369b"
   },
   "outputs": [],
   "source": [
    "ordinal_variables"
   ]
  },
  {
   "cell_type": "code",
   "execution_count": null,
   "id": "f789e5ac",
   "metadata": {
    "id": "f789e5ac"
   },
   "outputs": [],
   "source": [
    "continous_variable = [i for i in mum_prop.columns if ((len(mum_prop[i].unique()) > 53))]\n",
    "continous_variable = continous_variable[3:-1] # Remove Price and Location from data"
   ]
  },
  {
   "cell_type": "code",
   "execution_count": null,
   "id": "6bce8e49",
   "metadata": {
    "id": "6bce8e49",
    "outputId": "2ec6525a-529b-48d5-ed8c-6100f9096f7a"
   },
   "outputs": [],
   "source": [
    "continous_variable"
   ]
  },
  {
   "cell_type": "code",
   "execution_count": null,
   "id": "563854cb",
   "metadata": {
    "id": "563854cb"
   },
   "outputs": [],
   "source": [
    "target_variable = 'Price_Lakh'"
   ]
  },
  {
   "cell_type": "code",
   "execution_count": null,
   "id": "a8befd34",
   "metadata": {
    "id": "a8befd34",
    "outputId": "21bb96ba-84c0-418e-f9f4-241b6e6b185c"
   },
   "outputs": [],
   "source": [
    "target_variable"
   ]
  },
  {
   "cell_type": "markdown",
   "id": "34f77694",
   "metadata": {
    "id": "34f77694"
   },
   "source": [
    "## 6. Binary Variable"
   ]
  },
  {
   "cell_type": "code",
   "execution_count": null,
   "id": "5281783b",
   "metadata": {
    "id": "5281783b",
    "outputId": "10e8e94d-61f6-44a3-f4f1-dbcb2f76b07a"
   },
   "outputs": [],
   "source": [
    "print(binary_variables)\n",
    "print('Element in binary category :', len(binary_variables))"
   ]
  },
  {
   "cell_type": "markdown",
   "id": "c14f5e78",
   "metadata": {
    "id": "c14f5e78"
   },
   "source": [
    "### 6.1 Availability Count"
   ]
  },
  {
   "cell_type": "code",
   "execution_count": null,
   "id": "e658e3ae",
   "metadata": {
    "id": "e658e3ae",
    "outputId": "e8a660f6-a772-46d5-e1ed-6c76bb048204",
    "scrolled": false
   },
   "outputs": [],
   "source": [
    "fig = plt.figure(figsize=(6,8))\n",
    "\n",
    "plot = sns.barplot(data =mum_prop , x = mum_prop.Availability.value_counts().index,\n",
    "            y = mum_prop.Availability.value_counts().values)\n",
    "for bar in plot.patches:\n",
    "    plot.annotate(format(bar.get_height(), '.0f'),(bar.get_x() + bar.get_width()/2, bar.get_height()),\n",
    "                  ha='center', va='center', size=15, xytext=(0,8), textcoords='offset points')\n",
    "\n",
    "fig.suptitle('Availability : Counts',fontsize=18, fontweight=\"bold\")\n",
    "plt.xlabel('Availability',)\n",
    "plt.ylabel('Count')\n",
    "\n",
    "pylab.rcParams.update(rcParams)\n",
    "fig.tight_layout()\n",
    "plt.show()\n",
    "\n",
    "#fig.savefig('Availability_Bar', dpi = 500)"
   ]
  },
  {
   "cell_type": "markdown",
   "id": "2b384f86",
   "metadata": {
    "id": "2b384f86"
   },
   "source": [
    "## 7. Ordinal Variables"
   ]
  },
  {
   "cell_type": "code",
   "execution_count": null,
   "id": "e505c7bd",
   "metadata": {
    "id": "e505c7bd",
    "outputId": "132131a1-4ab4-4bbe-f9cd-548cd75aed9f"
   },
   "outputs": [],
   "source": [
    "print(ordinal_variables)\n",
    "print('Number of ordinal features is :', len(ordinal_variables))"
   ]
  },
  {
   "cell_type": "markdown",
   "id": "666f647d",
   "metadata": {
    "id": "666f647d"
   },
   "source": [
    "### 7.1 Price with respect to Property Age"
   ]
  },
  {
   "cell_type": "code",
   "execution_count": null,
   "id": "b1fc8c8d",
   "metadata": {
    "id": "b1fc8c8d",
    "outputId": "149889f2-5796-4c8d-aa8f-6aaf05fdd3e6"
   },
   "outputs": [],
   "source": [
    "fig = plt.figure(figsize=(10,6))\n",
    "\n",
    "sns.barplot(data = mum_prop , x = mum_prop.groupby('Property_Age').median().Price_Lakh , y = mum_prop.groupby('Property_Age').median().index)\n",
    "fig.suptitle('Price with respect to Property Age', fontsize= 18, fontweight=\"bold\")\n",
    "fig.text(0.9, 0.15, 'Shanu',fontsize = 13, color ='blue')\n",
    "pylab.rcParams.update(rcParams)\n",
    "fig.tight_layout()\n",
    "plt.show()\n",
    "\n",
    "#fig.savefig('Property_Age_Price_Bar', dpi = 500)"
   ]
  },
  {
   "cell_type": "code",
   "execution_count": null,
   "id": "af59c218",
   "metadata": {
    "id": "af59c218",
    "outputId": "6092c519-690c-42d9-9fee-6fd13700a537"
   },
   "outputs": [],
   "source": [
    "fig = plt.figure(figsize = (8,8))\n",
    "plt.pie(mum_prop['Property_Age'].value_counts(),\n",
    "       labels=['1 to 5 Year','0 to 1 Year','5 to 10 Year','10+ Year','Under Construction'],\n",
    "       autopct= '%.2f%%', textprops = {'size':'large'},explode = [0.005,0.005,0.005,0.005,0.005])\n",
    "plt.legend(loc= 'upper left')\n",
    "plt.title(\"Price with respect to Property Age\", fontsize = 18, fontweight = 'bold')\n",
    "fig.text(0.9, 0.15, 'Shanu', fontsize = 13, color ='red')\n",
    "\n",
    "pylab.rcParams.update(rcParams)\n",
    "fig.tight_layout()\n",
    "fig.subplots_adjust(top=0.93)\n",
    "plt.show()\n",
    "\n",
    "#fig.savefig('Price_Age_Distribution', dpi = 500)"
   ]
  },
  {
   "cell_type": "code",
   "execution_count": null,
   "id": "e6f3158d",
   "metadata": {
    "id": "e6f3158d",
    "outputId": "784235b5-a743-4d41-a31c-22c161b33576"
   },
   "outputs": [],
   "source": [
    "fig = plt.figure(figsize=(12,6))\n",
    "fig.suptitle('Price with respect to Property Age', size = 18, fontweight=\"bold\")\n",
    "fig.text(0.9, 0.15, 'Shanu Halli',fontsize = 13, color ='blue')\n",
    "\n",
    "sns.scatterplot(data = mum_prop , x = mum_prop['Property_Age'], y = mum_prop['Price_Lakh'])\n",
    "plt.xlabel(\"Property Age\", size=16)\n",
    "plt.ylabel(\"Price (Lakhs)\", size=16)\n",
    "plt.xticks(rotation=90)\n",
    "\n",
    "pylab.rcParams.update(rcParams)\n",
    "fig.tight_layout()\n",
    "plt.show()\n",
    "\n",
    "#fig.savefig('Property_Age_Price_Scatter', dpi = 500)"
   ]
  },
  {
   "cell_type": "markdown",
   "id": "a6c62c95",
   "metadata": {
    "id": "a6c62c95"
   },
   "source": [
    "### 7.2 Price with respect to Bed & Bath"
   ]
  },
  {
   "cell_type": "code",
   "execution_count": null,
   "id": "c511e31b",
   "metadata": {
    "id": "c511e31b",
    "outputId": "321ab320-a026-4ad0-85f2-7428bca6e2d2"
   },
   "outputs": [],
   "source": [
    "fig, ax = plt.subplots(2,1, figsize = (12,12))\n",
    "\n",
    "sns.barplot(ax= ax[0], data =mum_prop , x = mum_prop.groupby('Bedroom').median().index, y = mum_prop.groupby('Bedroom').median().Price_Lakh)\n",
    "sns.barplot(ax= ax[1], data = mum_prop , x = mum_prop.groupby('Bathroom').median().index, y = mum_prop.groupby('Bathroom').median().Price_Lakh)\n",
    "fig.suptitle('Price with respect to Bed & Bath', size = 18, fontweight=\"bold\")\n",
    "fig.text(0.9, 0.15, 'Shanu Halli', fontsize = 13, color ='black')\n",
    "\n",
    "pylab.rcParams.update(rcParams)\n",
    "fig.tight_layout()\n",
    "fig.subplots_adjust(top=0.93)\n",
    "plt.show()\n",
    "\n",
    "#fig.savefig('BednBath_Price_Bar', dpi = 500)"
   ]
  },
  {
   "cell_type": "code",
   "execution_count": null,
   "id": "e0a4b834",
   "metadata": {
    "id": "e0a4b834",
    "outputId": "47ea628d-6134-4aaf-b7b2-6911205f31d4"
   },
   "outputs": [],
   "source": [
    "fig, ax = plt.subplots(2,1, figsize = (12,10))\n",
    "\n",
    "sns.scatterplot(ax= ax[0], data = mum_prop , x = mum_prop['Bedroom'], y = mum_prop['Price_Lakh'])\n",
    "sns.scatterplot(ax= ax[1], data = mum_prop , x = mum_prop['Bathroom'], y = mum_prop['Price_Lakh'])\n",
    "fig.suptitle('Price with respect to Bed & Bath', size = 18, fontweight=\"bold\")\n",
    "fig.text(0.9, 0.15, 'Shanu Halli', fontsize = 13, color ='blue')\n",
    "\n",
    "pylab.rcParams.update(rcParams)\n",
    "fig.tight_layout()\n",
    "fig.subplots_adjust(top=0.93)\n",
    "plt.show()\n",
    "\n",
    "#fig.savefig('Bed_Bath_Price_Scatter', dpi = 500)"
   ]
  },
  {
   "cell_type": "markdown",
   "id": "1eaf2cec",
   "metadata": {
    "id": "1eaf2cec"
   },
   "source": [
    "### 7.3 Area Type Distribution"
   ]
  },
  {
   "cell_type": "code",
   "execution_count": null,
   "id": "7af9442c",
   "metadata": {
    "id": "7af9442c",
    "outputId": "6f94985d-88b9-4e94-e251-138ab20340ba"
   },
   "outputs": [],
   "source": [
    "fig = plt.figure(figsize = (8,8))\n",
    "plt.pie(mum_prop['Area_Tpye'].value_counts(),\n",
    "       labels=['Super Built Up Area','Carpet Area','Built Up Area','Plot Area'],\n",
    "       autopct= '%.2f%%', textprops = {'size':'large'},explode = [0.005,0.005,0.005,0.005])\n",
    "plt.legend(loc= 'upper left')\n",
    "plt.title(\"Type of Area : Distribution\", fontsize = 18, fontweight = 'bold')\n",
    "fig.text(0.9, 0.15, 'Shanu', fontsize = 13, color ='red')\n",
    "\n",
    "pylab.rcParams.update(rcParams)\n",
    "fig.tight_layout()\n",
    "fig.subplots_adjust(top=0.93)\n",
    "plt.show()\n",
    "\n",
    "#fig.savefig('Area_Type_Distribution', dpi = 500)"
   ]
  },
  {
   "cell_type": "code",
   "execution_count": null,
   "id": "7ea7cf5e",
   "metadata": {
    "id": "7ea7cf5e",
    "outputId": "96f86cb0-0042-4163-fd73-2b9818eeceaa"
   },
   "outputs": [],
   "source": [
    "fig = plt.figure(figsize=(10,4))\n",
    "\n",
    "sns.barplot(data =mum_prop , x =mum_prop.groupby('Area_Tpye').median().Price_Lakh, y =mum_prop.groupby('Area_Tpye').median().index)\n",
    "fig.suptitle('Type of Area : Count', fontsize= 18, fontweight=\"bold\")\n",
    "fig.text(0.9, 0.15, 'Shanu Halli', fontsize = 13, color ='red')\n",
    "pylab.rcParams.update(rcParams)\n",
    "fig.tight_layout()\n",
    "plt.show()\n",
    "\n",
    "#fig.savefig('Area_Type_Count_Bar', dpi = 500)"
   ]
  },
  {
   "cell_type": "markdown",
   "id": "b17cb847",
   "metadata": {
    "id": "b17cb847"
   },
   "source": [
    "### 7.4 Price with respect to Floor Numbers"
   ]
  },
  {
   "cell_type": "code",
   "execution_count": null,
   "id": "1b153dee",
   "metadata": {
    "id": "1b153dee",
    "outputId": "faa35910-d690-4273-c161-195afee71f30"
   },
   "outputs": [],
   "source": [
    "fig = plt.figure(figsize=(12,6))\n",
    "params = {'xtick.labelsize':'8','ytick.labelsize':'14','axes.labelsize':'16'}\n",
    "\n",
    "sns.barplot(data= mum_prop, x= mum_prop.groupby('Floor_No').median().index, y= mum_prop.groupby('Floor_No').median().Price_Lakh, palette= 'muted')\n",
    "fig.suptitle('Price with respect to Floor Numbers', fontsize= 18, fontweight=\"bold\")\n",
    "fig.text(0.9, 0.15, 'Shanu Halli', fontsize = 13, color ='blue')\n",
    "pylab.rcParams.update(params)\n",
    "fig.tight_layout()\n",
    "plt.show()\n",
    "\n",
    "#fig.savefig('Property_Floor_Numbers_Bar', dpi = 500)"
   ]
  },
  {
   "cell_type": "code",
   "execution_count": null,
   "id": "90afa5ef",
   "metadata": {
    "id": "90afa5ef",
    "outputId": "2d14645a-7c09-44e3-c4fa-ab524599664c",
    "scrolled": false
   },
   "outputs": [],
   "source": [
    "fig = plt.figure(figsize=(12,6))\n",
    "\n",
    "group_full = mum_prop.groupby('Floor_No')['Price_Lakh'].mean()\n",
    "group = group_full.reset_index()\n",
    "group = group[group['Floor_No'] > 0]\n",
    "group = group[group['Floor_No'] < 60]\n",
    "\n",
    "x = group['Floor_No']\n",
    "y = group['Price_Lakh']\n",
    "fig.suptitle('Price with respect to Floor No', fontsize= 18 , fontweight='bold')\n",
    "fig.text(0.9, 0.15, 'Shanu Halli', fontsize = 13, color ='blue')\n",
    "sns.scatterplot(x=x, y=y)\n",
    "\n",
    "pylab.rcParams.update(rcParams)\n",
    "fig.tight_layout()\n",
    "fig.subplots_adjust(top=0.93)\n",
    "plt.show()\n",
    "\n",
    "#fig.savefig('FloorNo_Price_Scatter', dpi = 500)"
   ]
  },
  {
   "cell_type": "markdown",
   "id": "6a214844",
   "metadata": {
    "id": "6a214844"
   },
   "source": [
    "### From above visualization we have concluded following points for higher Price.\n",
    "\n",
    "   1. As number of bedroom increased price also has incresed\n",
    "   2. As floor number goes higher price also increased\n",
    "   3. 4 BHK and 5 BHK price higher\n",
    "   4. Plot Area criteria is higher price\n",
    "   5. Upcoming New Project prices are higher"
   ]
  },
  {
   "cell_type": "markdown",
   "id": "4a89761f",
   "metadata": {
    "id": "4a89761f"
   },
   "source": [
    "## 8. Continous Variables"
   ]
  },
  {
   "cell_type": "code",
   "execution_count": null,
   "id": "30f6a8c4",
   "metadata": {
    "id": "30f6a8c4",
    "outputId": "e2a94c85-362e-4a48-ee80-eab5b6f0f73d"
   },
   "outputs": [],
   "source": [
    "for i in continous_variable:\n",
    "    print(\"Length of\", i,\":\", len(mum_prop[i].unique()))"
   ]
  },
  {
   "cell_type": "markdown",
   "id": "9a779d04",
   "metadata": {
    "id": "9a779d04"
   },
   "source": [
    "### 8.1 Price with respect to SqFt Area"
   ]
  },
  {
   "cell_type": "code",
   "execution_count": null,
   "id": "c3d2e09c",
   "metadata": {
    "id": "c3d2e09c",
    "outputId": "0c9fe15c-ab90-402f-a20a-f3c16056549f"
   },
   "outputs": [],
   "source": [
    "fig = plt.figure(figsize=(12,8))\n",
    "\n",
    "group_full = mum_prop.groupby('Area_SqFt')['Price_Lakh'].mean()\n",
    "group = group_full.reset_index()\n",
    "group = group[group['Area_SqFt'] > 0]\n",
    "group = group[group['Area_SqFt'] < 2000]\n",
    "\n",
    "x = group['Area_SqFt']\n",
    "y = group['Price_Lakh']\n",
    "fig.suptitle('Price with respect to SqFt Area', fontsize= 18 , fontweight='bold')\n",
    "fig.text(0.9, 0.15, 'Shanu Halli', fontsize = 13, color ='black')\n",
    "sns.scatterplot(x=x, y=y)\n",
    "\n",
    "pylab.rcParams.update(rcParams)\n",
    "fig.tight_layout()\n",
    "fig.subplots_adjust(top=0.93)\n",
    "plt.show()\n",
    "\n",
    "#fig.savefig('SqFt_Area_Price_Scatter', dpi = 500)"
   ]
  },
  {
   "cell_type": "markdown",
   "id": "041ba155",
   "metadata": {
    "id": "041ba155"
   },
   "source": [
    "### 8.2 Data visualization for 'Rate_SqFt' for Location 'Mira Road'\n",
    "**Note here its normal distribuation of data so outlier removal using stad deviation and mean works perfectly here**"
   ]
  },
  {
   "cell_type": "code",
   "execution_count": null,
   "id": "dc5150fd",
   "metadata": {
    "id": "dc5150fd",
    "outputId": "a683f241-c579-4573-d060-b9c1a92a8245"
   },
   "outputs": [],
   "source": [
    "fig = plt.figure(figsize=(12,6))\n",
    "fig.suptitle('Price per Square Feet for Location Mira Road', size = 18, fontweight=\"bold\")\n",
    "fig.text(0.9, 0.15, 'Shanu Halli', fontsize = 13, color ='red')\n",
    "\n",
    "sns.histplot(mum_prop[mum_prop.Region == \"Mira Road\"].Rate_SqFt ,bins=100)\n",
    "plt.xlabel(\"Price (Lakhs) Per Square Feet\")\n",
    "plt.ylabel(\"Count\")\n",
    "\n",
    "pylab.rcParams.update(rcParams)\n",
    "fig.tight_layout()\n",
    "plt.show()\n",
    "\n",
    "#fig.savefig('Rate_SqFt_Bar', dpi = 500)"
   ]
  },
  {
   "cell_type": "markdown",
   "id": "78b5c485",
   "metadata": {
    "id": "78b5c485"
   },
   "source": [
    "## 9. Target Varible"
   ]
  },
  {
   "cell_type": "code",
   "execution_count": null,
   "id": "bc5eb313",
   "metadata": {
    "id": "bc5eb313",
    "outputId": "215502d4-dea7-4d85-9b91-4648f6cebb1d"
   },
   "outputs": [],
   "source": [
    "mum_prop['Price_Cat'] = pd.cut(x = mum_prop['Price_Lakh'], bins = [13,70,190,16500], labels=['Low','Medium','High'], right = False)\n",
    "mum_prop.Price_Cat.value_counts()"
   ]
  },
  {
   "cell_type": "markdown",
   "id": "209fdb61",
   "metadata": {
    "id": "209fdb61"
   },
   "source": [
    "### Checking for Imbalanced or balanced dataset with regards to the Target"
   ]
  },
  {
   "cell_type": "code",
   "execution_count": null,
   "id": "a7309b8b",
   "metadata": {
    "id": "a7309b8b",
    "outputId": "898e2051-a513-41ce-f1f8-a92017a648ab"
   },
   "outputs": [],
   "source": [
    "fig = plt.figure(figsize = (8,8))\n",
    "\n",
    "plt.pie(mum_prop['Price_Cat'].value_counts(), labels= ['70 L - 1.9 Cr','1.9 Cr Onwords','upto 70 Lakh'],\n",
    "        explode= [0.005,0.005,0.005], autopct= '%.2f%%', startangle= 181, textprops= {'size':'large','fontweight':'bold'})\n",
    "plt.legend(loc= 'upper right')\n",
    "plt.title(\"Price Range Level Distribution\", fontsize = 18, fontweight = 'bold')\n",
    "fig.text(0.9, 0.15, 'Shanu', fontsize = 13, color ='red')\n",
    "\n",
    "pylab.rcParams.update(rcParams)\n",
    "fig.tight_layout()\n",
    "fig.subplots_adjust(top=0.93)\n",
    "plt.show()\n",
    "\n",
    "#fig.savefig('Price_Range_Distribution', dpi = 500)"
   ]
  },
  {
   "cell_type": "code",
   "execution_count": null,
   "id": "45fb77fc",
   "metadata": {
    "id": "45fb77fc",
    "outputId": "c0331c39-e6eb-4fd2-efc8-dae7e56e8c71"
   },
   "outputs": [],
   "source": [
    "fig, ax = plt.subplots(2,1, figsize = (12,10))\n",
    "\n",
    "fig.suptitle('Price with respect to Property Count', size = 18, fontweight=\"bold\")\n",
    "fig.text(0.9, 0.15, 'Shanu Halli', fontsize = 13, color ='red')\n",
    "sns.histplot(ax= ax[0],data=mum_prop[\"Price_Lakh\"], kde =  True, bins = 200)\n",
    "sns.boxplot(ax= ax[1], data=mum_prop[\"Price_Lakh\"], orient=\"h\", palette='muted')\n",
    "\n",
    "pylab.rcParams.update(rcParams)\n",
    "fig.tight_layout()\n",
    "fig.subplots_adjust(top=0.93)\n",
    "plt.show()\n",
    "\n",
    "#fig.savefig('Price_Count_Bar', dpi = 500)"
   ]
  },
  {
   "cell_type": "markdown",
   "id": "ab4b278d",
   "metadata": {
    "id": "ab4b278d"
   },
   "source": [
    "## 10. Bar plot Region wise Price"
   ]
  },
  {
   "cell_type": "code",
   "execution_count": null,
   "id": "64d730d3",
   "metadata": {
    "id": "64d730d3",
    "outputId": "d0793e59-1a8e-4792-9c11-c3155b7f5a5e"
   },
   "outputs": [],
   "source": [
    "import plotly.graph_objects as px\n",
    "import plotly.express as go\n",
    "import numpy as np\n",
    "\n",
    "x = mum_prop['Region']\n",
    "y = mum_prop['Price_Lakh']\n",
    "\n",
    "plot = px.Figure(data=[px.Bar(x=x, y=y)])\n",
    "plot.update_layout(xaxis=dict(rangeselector=dict(buttons=list([dict(count=1,stepmode=\"backward\")])),\n",
    "                              rangeslider=dict(visible=True)),width=900, height=900)\n",
    "\n",
    "plot.show()"
   ]
  },
  {
   "cell_type": "code",
   "execution_count": null,
   "id": "0c4d271f",
   "metadata": {
    "id": "0c4d271f",
    "outputId": "c4402376-185a-449a-e442-206e1b73e6be"
   },
   "outputs": [],
   "source": [
    "fig  = plt.figure(figsize=(12,15))\n",
    "sns.barplot(x='Price_Lakh',y='Region',data=mum_prop.head(50))\n",
    "plt.title('Region wise Price', size = 18, fontweight=\"bold\")\n",
    "fig.text(0.9, 0.15, 'Shanu Halli', fontsize = 13, color ='red')\n",
    "\n",
    "pylab.rcParams.update(rcParams)\n",
    "fig.tight_layout()\n",
    "plt.show()\n",
    "\n",
    "#fig.savefig('Region_wise_Price_Bar', dpi = 500)"
   ]
  },
  {
   "cell_type": "markdown",
   "id": "ee1878c4",
   "metadata": {
    "id": "ee1878c4"
   },
   "source": [
    "## 11. Check for a given Region how does the 2 BHK and 3 BHK Property Prices look like"
   ]
  },
  {
   "cell_type": "code",
   "execution_count": null,
   "id": "2aece8ad",
   "metadata": {
    "id": "2aece8ad",
    "outputId": "631e90fd-d0cf-490b-ee7a-789ac3ffca0e"
   },
   "outputs": [],
   "source": [
    "mum_prop.Region.nunique()"
   ]
  },
  {
   "cell_type": "code",
   "execution_count": null,
   "id": "76410a9d",
   "metadata": {
    "id": "76410a9d"
   },
   "outputs": [],
   "source": [
    "def plot_scatter_chart1(mum_prop,Region):\n",
    "    fig  = plt.figure(figsize=(10,7))\n",
    "    bhk2 = mum_prop[(mum_prop.Region==Region) & (mum_prop.Bedroom==2)]\n",
    "    bhk3 = mum_prop[(mum_prop.Region==Region) & (mum_prop.Bedroom==3)]\n",
    "    bhk4 = mum_prop[(mum_prop.Region==Region) & (mum_prop.Bedroom==4)]\n",
    "    plt.rcParams['figure.figsize'] = (14,12)\n",
    "    sns.scatterplot(x=bhk2.Area_SqFt,y=bhk2.Price_Lakh,marker='p',color='blue',label='2 BHK',s=100)\n",
    "    sns.scatterplot(x=bhk3.Area_SqFt,y=bhk3.Price_Lakh,marker='o',color='red',label='3 BHK',s=100)\n",
    "    sns.scatterplot(x=bhk4.Area_SqFt,y=bhk4.Price_Lakh,marker='*',color='green',label='4 BHK',s=300)\n",
    "    plt.xlabel(\"Total Square Feet Area\", )\n",
    "    plt.ylabel(\"Price (Lakhs Indian Rupees)\")\n",
    "    plt.title(Region, fontsize = 18, fontweight=\"bold\")\n",
    "    fig.text(0.9, 0.15, 'Shanu Halli', fontsize = 13, color ='blue')\n",
    "\n",
    "\n",
    "    pylab.rcParams.update(rcParams)\n",
    "    plt.legend(fontsize = 12)\n",
    "    fig.tight_layout()\n",
    "    fig.subplots_adjust(top=0.90)\n",
    "    #fig.savefig(Region, dpi = 500)"
   ]
  },
  {
   "cell_type": "code",
   "execution_count": null,
   "id": "af9ded96",
   "metadata": {
    "id": "af9ded96",
    "outputId": "13b4d0a3-2f12-4218-9314-25b32f0a9b03"
   },
   "outputs": [],
   "source": [
    "plot_scatter_chart1(mum_prop,\"Central Mumbai\")"
   ]
  },
  {
   "cell_type": "code",
   "execution_count": null,
   "id": "393eb468",
   "metadata": {
    "id": "393eb468",
    "outputId": "7b4d9443-e6e5-4a5d-9a3b-2547b08a69cb"
   },
   "outputs": [],
   "source": [
    "plot_scatter_chart1(mum_prop,\"South Mumbai\")"
   ]
  },
  {
   "cell_type": "code",
   "execution_count": null,
   "id": "43bcff00",
   "metadata": {
    "id": "43bcff00",
    "outputId": "74b23225-5201-4348-9b85-18cf900133f5"
   },
   "outputs": [],
   "source": [
    "plot_scatter_chart1(mum_prop,\"Mira Road\")"
   ]
  },
  {
   "cell_type": "code",
   "execution_count": null,
   "id": "b49f5d0a",
   "metadata": {
    "id": "b49f5d0a",
    "outputId": "40d6070f-cb06-4bdf-eb1b-168e2491f1eb"
   },
   "outputs": [],
   "source": [
    "plot_scatter_chart1(mum_prop,\"Thane\")"
   ]
  },
  {
   "cell_type": "markdown",
   "id": "e5cb1abe",
   "metadata": {
    "id": "e5cb1abe"
   },
   "source": [
    "## 12. Location Map (Geocoders)"
   ]
  },
  {
   "cell_type": "code",
   "execution_count": null,
   "id": "afb96588",
   "metadata": {
    "id": "afb96588"
   },
   "outputs": [],
   "source": [
    "df = pd.read_csv('Map_Location.csv')\n",
    "\n",
    "lat   = list(df['Latitude'])\n",
    "lon   = list(df['Longitude'])\n",
    "name  = list(df['Property_Name'])\n",
    "add   = list(df['Location'])\n",
    "price = list(df['Price'])\n",
    "age   = list(df['Property_Age'])\n",
    "avail = list(df['Availability'])\n",
    "rate  = list(df['Rate_SqFt'])\n",
    "\n",
    "gmap  = folium.Map(location=[19.15940, 73.07068], zoom_start=11)\n",
    "fg    = folium.FeatureGroup(name=\"My Map\").add_to(gmap)"
   ]
  },
  {
   "cell_type": "code",
   "execution_count": null,
   "id": "e7cf6d1a",
   "metadata": {
    "id": "e7cf6d1a",
    "outputId": "554e57d4-559d-41b4-99c3-c4ef14f9318a"
   },
   "outputs": [],
   "source": [
    "for lat,lon,name,add,price,age,avail,rate in zip(lat,lon,name,add,price,age,avail,rate):\n",
    "    html = f\"\"\"<p style=\"color:green\" > Property Name : {name}<p/>\n",
    "               <p style=\"color:green\" > Address : {add}<p/>\n",
    "               <p style=\"color:red\" > Price : {price}<p/>\n",
    "               <p style=\"color:red\" > Rate per SqFt : {rate}<p/>\n",
    "               <p style=\"color:blue\" > Property Age : {age}<p/>\n",
    "               <p style=\"color:blue\" > Availability : {avail}<p/>\n",
    "            \"\"\"\n",
    "    iframe = folium.IFrame(html, width=250, height=270)\n",
    "    popup  = folium.Popup(iframe, max_width=300)\n",
    "    marker = folium.Marker([lat,lon], popup=(popup)).add_to(gmap)\n",
    "    gmap.add_child(marker)\n",
    "\n",
    "gmap.add_child(fg)\n",
    "#gmap.save(\"mumbai_property.html\")"
   ]
  },
  {
   "cell_type": "markdown",
   "id": "43e9bc84",
   "metadata": {
    "id": "43e9bc84"
   },
   "source": [
    "# The End !!"
   ]
  }
 ],
 "metadata": {
  "colab": {
   "provenance": []
  },
  "kernelspec": {
   "display_name": "Python 3 (ipykernel)",
   "language": "python",
   "name": "python3"
  },
  "language_info": {
   "codemirror_mode": {
    "name": "ipython",
    "version": 3
   },
   "file_extension": ".py",
   "mimetype": "text/x-python",
   "name": "python",
   "nbconvert_exporter": "python",
   "pygments_lexer": "ipython3",
   "version": "3.11.3"
  }
 },
 "nbformat": 4,
 "nbformat_minor": 5
}
